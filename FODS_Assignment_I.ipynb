{
 "cells": [
  {
   "cell_type": "markdown",
   "metadata": {
    "id": "uiK0fGWOnXcQ"
   },
   "source": [
    "Book :- \n",
    "Author :- Mark Lutz \n",
    "1. Learning Python 5th Edition O'Reilly\n",
    "2.Python Cookbook  David Beazley O'Reilly \n",
    "\n",
    "Link:- \n",
    "1. http://www.cs.uni.edu/~fienup/cs051f10/lectures/\n",
    "2. https://github.com/MrAlex6204/Books/blob/master/Learning%20Python%2C%205th%20Edition.pdf\n",
    "3. https://github.com/tomarraj008/data_books/blob/master/Python%20Cookbook%2C%203rd%20Edition.pdf\n",
    "\n"
   ]
  },
  {
   "cell_type": "markdown",
   "metadata": {
    "id": "g5RW89-P01bg"
   },
   "source": [
    "First Week Assignment \n",
    "\n",
    "Test Your Knowledge: Quiz \n",
    "\n",
    "1. What are the six main reasons that people choose to use Python?\n",
    "2. Name four notable companies or organizations using Python today.\n",
    "3. Why might you not want to use Python in an application?\n",
    "4. What can you do with Python?\n",
    "5. What’s the significance of the Python import this statement?\n",
    "6. Why does “spam” show up in so many Python examples in books and on the Web?\n",
    "7. What is your favorite color?\n",
    "\n",
    "\n",
    "Test Your Knowledge: Quiz\n",
    "1. What is the Python interpreter?\n",
    "2. What is source code?\n",
    "3. What is byte code?\n",
    "4. What is the PVM?\n",
    "5. Name two or more variations on Python’s standard execution model.\n",
    "6. How are CPython, Jython, and IronPython different?\n",
    "7. What are Stackless and PyPy?\n",
    "\n",
    "Test Your Knowledge: Quiz\n",
    "1. How can you start an interactive interpreter session?\n",
    "2. Where do you type a system command line to launch a script file?\n",
    "3. Name four or more ways to run the code saved in a script file.\n",
    "4. Name two pitfalls related to clicking file icons on Windows.\n",
    "5. Why might you need to reload a module?\n",
    "6. How do you run a script from within IDLE?\n",
    "7. Name two pitfalls related to using IDLE.\n",
    "8. What is a namespace, and how does it relate to module files?\n",
    "\n",
    "\n",
    "Test Your Knowledge: Quiz\n",
    "\n",
    "1. Name four of Python’s core data types.\n",
    "2. Why are they called “core” data types?\n",
    "3. What does “immutable” mean, and which three of Python’s core types are considered immutable?\n",
    "4. What does “sequence” mean, and which three types fall into that category?\n",
    "5. What does “mapping” mean, and which core type is a mapping?\n",
    "6. What is “polymorphism,” and why should you care?\n",
    "\n",
    "\n",
    "\n"
   ]
  },
  {
   "cell_type": "markdown",
   "metadata": {},
   "source": [
    "# First Week Assignment\n",
    "## Test Your Knowledge: Quiz\n",
    "\n",
    "### 1.What are the six main reasons that people choose to use Python?\n",
    "* Readable and Maintainable Code\n",
    "* Multiple Programming Paradigms\n",
    "* Compatible with Major Platforms and Systems\n",
    "* Robust Standard Library\n",
    "* Many Open Source Frameworks and Tools\n",
    "* Simplify Complex Software Development\n",
    "### 2.Name four notable companies or organizations using Python today.\n",
    "* Google.\n",
    "* Facebook.\n",
    "* Instagram.\n",
    "* Spotify.\n",
    "### 3. Why might you not want to use Python in an application?\n",
    "* It is not considered ideal for mobile app development and game development due to the consumption of more memory and its slow processing speed while compared to other programming languages\n",
    "### 4.What can you do with Python?\n",
    "* Automate the Boring Stuff\n",
    "*  Stay on Top of Bitcoin Prices\n",
    "* Create a Calculator\n",
    "* Mine Twitter Data\n",
    "* Build a Microblog With Flask\n",
    "* Play PyGames\n",
    "\n",
    "### 5.What’s the significance of the Python import this statement?\n",
    "* The import statement allows you to import one or more modules into your Python program, letting you make use of the definitions constructed in those modules\n"
   ]
  },
  {
   "cell_type": "markdown",
   "metadata": {},
   "source": [
    "## Test Your Knowledge: Quiz\n",
    "### 1. What is the Python interpreter?\n",
    "* Byterun is a Python interpreter implemented in Python.\n",
    "### 2.What is source code?\n",
    "* a text listing of commands to be compiled or assembled into an executable computer program.\n",
    "\n",
    "### 3.What is byte code?\n",
    "* Bytecode, also termed portable code or p-code, is a form of instruction set designed for efficient execution by a software interpreter\n",
    "### 4.What is the PVM?\n",
    "* Parallel Virtual Machine is a software tool for parallel networking of computers. It is designed to allow a network of heterogeneous Unix and/or Windows machines to be used as a single distributed parallel processor\n",
    "\n",
    "### 5.Name two or more variations on Python’s standard execution model.\n",
    "* CPython\n",
    "* Jython\n",
    "### 6.How are CPython, Jython, and IronPython different?\n",
    "* Jython and IronPython are different python implementations, both of which run on different virtual machines. Jython runs on the JVM (Java virtual machine) and IronPython runs on the CLR (common language runtime). This means that programs using these implementations can take advantage of the libraries and ecosystem of the virtual machines. For example, using Jython, I can write a plugin for a Java application, and using IronPython I can use the .NET standard library. The downside to using a different implementation to CPython is that CPython is the most used python, and therefore has the best support from libraries and developers. For example, a popular library like NumPy will only work on CPython, as it relies on CPython's C api, which neither Jython or IronPython can provide.\n",
    "### 7.What are Stackless and PyPy?\n",
    "* Stackless Python, or Stackless, is a Python programming language interpreter, so named because it avoids depending on the C call stack for its own stack. In practice, Stackless Python uses the C stack, but the stack is cleared between function calls\n",
    "* PyPyis an alternative implementation of the Python programming language to CPython (which is the standard implementation). PyPy often runs faster than CPython because PyPy is a just-in-time compiler while CPython is an interpreter.Most Python code runs well on PyPy except for code that depends on CPython extensions, which either does not work or incurs some overhead when run in PyPy. Internally, PyPy uses a technique known as meta-tracing, which transforms an interpreter into a tracing just-in-time compiler."
   ]
  },
  {
   "cell_type": "markdown",
   "metadata": {},
   "source": [
    "## Test Your Knowledge: Quiz\n",
    "### 1. How can you start an interactive interpreter session?\n",
    "* A widely used way to run Python code is through an interactive session. To start a Python interactive session, just open a command-line or terminal and then type in python , or python3 depending on your Python installation, and then hit Enter .\n",
    "### 2. Where do you type a system command line to launch a script file?\n",
    "* To run Python scripts with the python command, you need to open a command-line and type in the word python , or python3 if you have both versions, followed by the path to your script, just like this: $ python3 hello.py Hello World!\n",
    "\n",
    "### 3. Name four or more ways to run the code saved in a script file.\n",
    "* Starting the Python Interpreter\n",
    "* Running Python Code Interactively\n",
    "* Running Python Scripts by the Interpreter\n",
    "* Running Python Scripts using Command-Line\n",
    "### 4. Name two pitfalls related to clicking file icons on Windows.\n",
    "* Scripts that print and then exit cause the output file to disappear immediately,\n",
    "before you can view the output (which is why the input trick comes in handy);\n",
    "error messages generated by your script also appear in an output window that\n",
    "closes before you can examine its contents (which is one reason that system command\n",
    "lines and IDEs such as IDLE are better for most development)\n",
    "### 5. Why might you need to reload a module?\n",
    "* Python imports (loads) a module only once per process, by default, so if you've\n",
    "changed its source code and want to run the new version without stopping and\n",
    "restarting Python, you'll have to reload it. You must import a module at least once\n",
    "before you can reload it. Running files of code from a system shell command line,\n",
    "via an icon click, or via an IDE such as IDLE generally makes this a nonissue, as\n",
    "those launch schemes usually run the current version of the source code file each time.\n",
    "### 6. How do you run a script from within IDLE?\n",
    "* Within the text edit window of the file you wish to run, select the window's\n",
    "Run→Run Module menu option. This runs the window's source code as a top-level\n",
    "script file and displays its output back in the interactive Python shell window.\n",
    "### 7. Name two pitfalls related to using IDLE.\n",
    "* IDLE can still be hung by some types of programs—especially GUI programs that\n",
    "perform multi-threading. Also,\n",
    "IDLE has some usability features that can burn you once you leave the IDLE GUI:\n",
    "a script's variables are automatically imported to the interactive scope in IDLE and working directories are changed when you run a file, for instance, but Python itself does not take such steps in general.\n",
    "### 8. What is a namespace, and how does it relate to module files?\n",
    "* A namespace is just a package of variables (i.e., names). It takes the form of an\n",
    "object with attributes in Python. Each module file is automatically a namespace—\n",
    "that is, a package of variables reflecting the assignments made at the top level of\n",
    "the file. Namespaces help avoid name collisions in Python programs: because each\n",
    "module file is a self-contained namespace, files must explicitly import other files\n",
    "in order to use their names."
   ]
  },
  {
   "cell_type": "markdown",
   "metadata": {},
   "source": [
    "## Test Your Knowledge: Quiz\n",
    "\n",
    "### 1. Name four of Python’s core data types.\n",
    "* Numbers, strings, lists, dictionaries, tuples, files, and sets.\n",
    "### 2. Why are they called “core” data types?\n",
    "### 3. What does “immutable” mean, and which three of Python’s core types are considered immutable?\n",
    "* An \"immutable\" object is an object that cannot be changed after it is created.Numbers, strings, and tuples in Python fall into this category.\n",
    "### 4. What does “sequence” mean, and which three types fall into that category?\n",
    "* A \"sequence\" is a positionally ordered collection of objects. Strings, lists, and tuples are all sequences in Python. They share common sequence operations, such as indexing, concatenation, and slicing, but also have type-specific method calls.\n",
    "### 5. What does “mapping” mean, and which core type is a mapping?\n",
    "* The term \"mapping\" denotes an object that maps keys to associated values.Python's dictionary is the only mapping type in the core type set.\n",
    "### 6. What is “polymorphism,” and why should you care?\n",
    "* \"Polymorphism\" means that the meaning of an operation (like a +) depends on theobjects being operated on. This turns out to be a key idea (perhaps the key idea)behind using Python well—not constraining code to specific types makes that codeautomatically applicable to many types.\n",
    "\n"
   ]
  },
  {
   "cell_type": "code",
   "execution_count": null,
   "metadata": {},
   "outputs": [],
   "source": []
  },
  {
   "cell_type": "code",
   "execution_count": null,
   "metadata": {},
   "outputs": [],
   "source": []
  },
  {
   "cell_type": "code",
   "execution_count": null,
   "metadata": {},
   "outputs": [],
   "source": []
  },
  {
   "cell_type": "code",
   "execution_count": null,
   "metadata": {},
   "outputs": [],
   "source": []
  },
  {
   "cell_type": "code",
   "execution_count": null,
   "metadata": {},
   "outputs": [],
   "source": []
  },
  {
   "cell_type": "code",
   "execution_count": null,
   "metadata": {},
   "outputs": [],
   "source": []
  },
  {
   "cell_type": "code",
   "execution_count": null,
   "metadata": {},
   "outputs": [],
   "source": []
  },
  {
   "cell_type": "markdown",
   "metadata": {
    "id": "6kafgQs5S8WY"
   },
   "source": [
    "**Projects:-**<br>\n",
    "1. Open a Python shell, enter the following expressions, and observe the results:<br>\n",
    "a. 8<br>\n",
    "b. 8 * 2<br>\n",
    "c. 8 ** 2<br>\n",
    "d. 8/12<br>\n",
    "e. 8 // 12<br>\n",
    "f. 8/0"
   ]
  },
  {
   "cell_type": "code",
   "execution_count": 2,
   "metadata": {
    "id": "M0vvPpdkTWOZ"
   },
   "outputs": [
    {
     "data": {
      "text/plain": [
       "8"
      ]
     },
     "execution_count": 2,
     "metadata": {},
     "output_type": "execute_result"
    }
   ],
   "source": [
    "8"
   ]
  },
  {
   "cell_type": "code",
   "execution_count": 3,
   "metadata": {},
   "outputs": [
    {
     "data": {
      "text/plain": [
       "16"
      ]
     },
     "execution_count": 3,
     "metadata": {},
     "output_type": "execute_result"
    }
   ],
   "source": [
    "8 * 2"
   ]
  },
  {
   "cell_type": "code",
   "execution_count": 4,
   "metadata": {},
   "outputs": [
    {
     "data": {
      "text/plain": [
       "64"
      ]
     },
     "execution_count": 4,
     "metadata": {},
     "output_type": "execute_result"
    }
   ],
   "source": [
    "8 ** 2"
   ]
  },
  {
   "cell_type": "code",
   "execution_count": 5,
   "metadata": {},
   "outputs": [
    {
     "data": {
      "text/plain": [
       "0.6666666666666666"
      ]
     },
     "execution_count": 5,
     "metadata": {},
     "output_type": "execute_result"
    }
   ],
   "source": [
    "8/12"
   ]
  },
  {
   "cell_type": "code",
   "execution_count": 6,
   "metadata": {},
   "outputs": [
    {
     "data": {
      "text/plain": [
       "0"
      ]
     },
     "execution_count": 6,
     "metadata": {},
     "output_type": "execute_result"
    }
   ],
   "source": [
    " 8 // 12"
   ]
  },
  {
   "cell_type": "code",
   "execution_count": 7,
   "metadata": {},
   "outputs": [
    {
     "ename": "ZeroDivisionError",
     "evalue": "division by zero",
     "output_type": "error",
     "traceback": [
      "\u001b[1;31m---------------------------------------------------------------------------\u001b[0m",
      "\u001b[1;31mZeroDivisionError\u001b[0m                         Traceback (most recent call last)",
      "\u001b[1;32m<ipython-input-7-b75faf41dc75>\u001b[0m in \u001b[0;36m<module>\u001b[1;34m\u001b[0m\n\u001b[1;32m----> 1\u001b[1;33m \u001b[1;36m8\u001b[0m\u001b[1;33m/\u001b[0m\u001b[1;36m0\u001b[0m\u001b[1;33m\u001b[0m\u001b[1;33m\u001b[0m\u001b[0m\n\u001b[0m",
      "\u001b[1;31mZeroDivisionError\u001b[0m: division by zero"
     ]
    }
   ],
   "source": [
    "8/0"
   ]
  },
  {
   "cell_type": "code",
   "execution_count": null,
   "metadata": {},
   "outputs": [],
   "source": []
  },
  {
   "cell_type": "markdown",
   "metadata": {
    "id": "ySRylLzXTg4L"
   },
   "source": [
    "### 2. Write a Python program that prints (displays) your name, address, and telephone number"
   ]
  },
  {
   "cell_type": "code",
   "execution_count": 1,
   "metadata": {
    "colab": {
     "base_uri": "https://localhost:8080/"
    },
    "id": "IC-e8BmAUMex",
    "outputId": "4af387d4-68cb-4d47-db9f-7c1d2d9b8409"
   },
   "outputs": [
    {
     "name": "stdout",
     "output_type": "stream",
     "text": [
      "enter your name\n",
      "sujan\n",
      "enter your address\n",
      "ktm\n",
      "enter your telephone123456\n",
      "my name is:sujan\n",
      " my address is:ktm\n",
      " my telephone is:123456\n"
     ]
    }
   ],
   "source": [
    "def my_info(name,address,telephone):\n",
    "  print('my name is:' + name+\n",
    "  '\\n my address is:'+ address +\n",
    "  '\\n my telephone is:'+ telephone )\n",
    "\n",
    "my_name=input('enter your name\\n')\n",
    "my_address=input('enter your address\\n')\n",
    "my_telephone=input('enter your telephone')\n",
    "my_info(my_name,my_address,my_telephone)"
   ]
  },
  {
   "cell_type": "markdown",
   "metadata": {
    "id": "H-t99QCLUNap"
   },
   "source": [
    "### 3. Evaluate the following code at a shell prompt: print(\"Your name is\", name). Then assign name an appropriate value, and evaluate the statement again."
   ]
  },
  {
   "cell_type": "code",
   "execution_count": 2,
   "metadata": {
    "colab": {
     "base_uri": "https://localhost:8080/",
     "height": 163
    },
    "id": "dXcXgJUSUhwR",
    "outputId": "724cf5ab-1d80-4042-a5a3-c5ba3841d3f9"
   },
   "outputs": [
    {
     "ename": "NameError",
     "evalue": "name 'name' is not defined",
     "output_type": "error",
     "traceback": [
      "\u001b[1;31m---------------------------------------------------------------------------\u001b[0m",
      "\u001b[1;31mNameError\u001b[0m                                 Traceback (most recent call last)",
      "\u001b[1;32m<ipython-input-2-ed7fa0a8371e>\u001b[0m in \u001b[0;36m<module>\u001b[1;34m\u001b[0m\n\u001b[1;32m----> 1\u001b[1;33m \u001b[0mprint\u001b[0m\u001b[1;33m(\u001b[0m\u001b[1;34m'your name is'\u001b[0m\u001b[1;33m,\u001b[0m\u001b[0mname\u001b[0m\u001b[1;33m)\u001b[0m\u001b[1;33m\u001b[0m\u001b[1;33m\u001b[0m\u001b[0m\n\u001b[0m",
      "\u001b[1;31mNameError\u001b[0m: name 'name' is not defined"
     ]
    }
   ],
   "source": [
    "print('your name is',name)\n"
   ]
  },
  {
   "cell_type": "code",
   "execution_count": 3,
   "metadata": {},
   "outputs": [
    {
     "name": "stdout",
     "output_type": "stream",
     "text": [
      "your name is Sujan\n"
     ]
    }
   ],
   "source": [
    "name='Sujan'\n",
    "print('your name is',name)"
   ]
  },
  {
   "cell_type": "markdown",
   "metadata": {
    "id": "qjgWML-AUi-v"
   },
   "source": [
    "### 4. Write and test a program that accepts the user's name(as text) and age(as a number) as input. The program should output a sentense containing the user's name and age."
   ]
  },
  {
   "cell_type": "code",
   "execution_count": 9,
   "metadata": {
    "id": "a3yt3ND1WkF0"
   },
   "outputs": [
    {
     "name": "stdout",
     "output_type": "stream",
     "text": [
      "enter your name: Sujan\n",
      "enter your age: 26\n",
      "User name is :Sujan User age is :26\n"
     ]
    }
   ],
   "source": [
    "def name_age():\n",
    "    name=input('enter your name: ')\n",
    "    age=int(input('enter your age: '))\n",
    "    print('User name is :' + name + ' User age is :' + str(age))\n",
    "name_age()\n"
   ]
  },
  {
   "cell_type": "markdown",
   "metadata": {
    "id": "Fw-qO1W9WlGW"
   },
   "source": [
    "### 5. Write and test a program that computes the area of a circle. This program should request a number representing  a radius as input from the user. It should use the formula 3.14*radius**2 to compute the area and then output this result suitably labeled."
   ]
  },
  {
   "cell_type": "code",
   "execution_count": 17,
   "metadata": {
    "id": "PwqzW8U-W8fB"
   },
   "outputs": [
    {
     "name": "stdout",
     "output_type": "stream",
     "text": [
      "enter radius of cicle: 3\n",
      "area of circle is : 28.26\n"
     ]
    }
   ],
   "source": [
    "def area_circle():\n",
    "    r=float(input('enter radius of cicle: '))\n",
    "    area=float(3.14*r**2)\n",
    "    print('area of circle is : ' + str(area))\n",
    "area_circle()"
   ]
  },
  {
   "cell_type": "markdown",
   "metadata": {
    "id": "roHMT8eHXDFg"
   },
   "source": [
    "6. Enter an input statement using the input function at the shll prompt. When the prompt asks you for input, enter a number. Then, attempt to add 1 to that number, observe the results and explain what happened."
   ]
  },
  {
   "cell_type": "code",
   "execution_count": 20,
   "metadata": {
    "id": "Y9danKsrXXLJ"
   },
   "outputs": [
    {
     "name": "stdout",
     "output_type": "stream",
     "text": [
      "enter a number: 4\n"
     ]
    },
    {
     "ename": "TypeError",
     "evalue": "can only concatenate str (not \"int\") to str",
     "output_type": "error",
     "traceback": [
      "\u001b[1;31m---------------------------------------------------------------------------\u001b[0m",
      "\u001b[1;31mTypeError\u001b[0m                                 Traceback (most recent call last)",
      "\u001b[1;32m<ipython-input-20-f890c29abf35>\u001b[0m in \u001b[0;36m<module>\u001b[1;34m\u001b[0m\n\u001b[0;32m      1\u001b[0m \u001b[0mold_num\u001b[0m\u001b[1;33m=\u001b[0m\u001b[0minput\u001b[0m\u001b[1;33m(\u001b[0m\u001b[1;34m'enter a number: '\u001b[0m\u001b[1;33m)\u001b[0m\u001b[1;33m\u001b[0m\u001b[1;33m\u001b[0m\u001b[0m\n\u001b[1;32m----> 2\u001b[1;33m \u001b[0mnew_num\u001b[0m\u001b[1;33m=\u001b[0m\u001b[0mold_num\u001b[0m \u001b[1;33m+\u001b[0m \u001b[1;36m1\u001b[0m\u001b[1;33m\u001b[0m\u001b[1;33m\u001b[0m\u001b[0m\n\u001b[0m",
      "\u001b[1;31mTypeError\u001b[0m: can only concatenate str (not \"int\") to str"
     ]
    }
   ],
   "source": [
    "old_num=input('enter a number: ')\n",
    "new_num=old_num + 1\n"
   ]
  },
  {
   "cell_type": "raw",
   "metadata": {},
   "source": [
    "input statement takes the tring vale so there is error when string and integer is attempted to concatenate"
   ]
  },
  {
   "cell_type": "markdown",
   "metadata": {
    "id": "-ud9b4rIXdyO"
   },
   "source": [
    "### 7. Enter the expression help() at the shell prompt. Follow the instructions to browse the topics and modules."
   ]
  },
  {
   "cell_type": "code",
   "execution_count": 21,
   "metadata": {
    "id": "Q6DP_R5hXmmS"
   },
   "outputs": [
    {
     "name": "stdout",
     "output_type": "stream",
     "text": [
      "\n",
      "Welcome to Python 3.7's help utility!\n",
      "\n",
      "If this is your first time using Python, you should definitely check out\n",
      "the tutorial on the Internet at https://docs.python.org/3.7/tutorial/.\n",
      "\n",
      "Enter the name of any module, keyword, or topic to get help on writing\n",
      "Python programs and using Python modules.  To quit this help utility and\n",
      "return to the interpreter, just type \"quit\".\n",
      "\n",
      "To get a list of available modules, keywords, symbols, or topics, type\n",
      "\"modules\", \"keywords\", \"symbols\", or \"topics\".  Each module also comes\n",
      "with a one-line summary of what it does; to list the modules whose name\n",
      "or summary contain a given string such as \"spam\", type \"modules spam\".\n",
      "\n",
      "help> input\n",
      "Help on method raw_input in module ipykernel.kernelbase:\n",
      "\n",
      "input = raw_input(prompt='') method of ipykernel.ipkernel.IPythonKernel instance\n",
      "    Forward raw_input to frontends\n",
      "    \n",
      "    Raises\n",
      "    ------\n",
      "    StdinNotImplentedError if active frontend doesn't support stdin.\n",
      "\n",
      "\n",
      "You are now leaving help and returning to the Python interpreter.\n",
      "If you want to ask for help on a particular object directly from the\n",
      "interpreter, you can type \"help(object)\".  Executing \"help('string')\"\n",
      "has the same effect as typing a particular string at the help> prompt.\n"
     ]
    }
   ],
   "source": [
    "help()"
   ]
  },
  {
   "cell_type": "markdown",
   "metadata": {
    "id": "Mh0jLr5HYCzo"
   },
   "source": [
    "### 8. The tax calculator program of the case study outputs a floating-point number that might show more than two digits of precision. Use the round function to modify the program to display at most two digits of precision in the output number."
   ]
  },
  {
   "cell_type": "code",
   "execution_count": 31,
   "metadata": {
    "id": "6JN4PaojYEK4"
   },
   "outputs": [
    {
     "name": "stdout",
     "output_type": "stream",
     "text": [
      "enter your income:\n",
      "1234\n",
      "Total tax amount is :160.42 \n"
     ]
    }
   ],
   "source": [
    "def tax_amounts(income):\n",
    "    amount=round(float(0.13*income),2)\n",
    "    return(amount)\n",
    "income=float(input('enter your income:\\n'))\n",
    "print('Total tax amount is :{0} '.format(tax_amounts(income)))"
   ]
  },
  {
   "cell_type": "markdown",
   "metadata": {
    "id": "SeHW1j9kYF8Q"
   },
   "source": [
    "### 9. You can calculate the surface area of a cube if you know the length of an edge. Write a program that takes the length of an edge(an integer) as input and prints the cube's surface area as output."
   ]
  },
  {
   "cell_type": "code",
   "execution_count": 33,
   "metadata": {
    "id": "otcAXgxxYkx6"
   },
   "outputs": [
    {
     "name": "stdout",
     "output_type": "stream",
     "text": [
      "enter the length of edge:\n",
      "2\n",
      "surface area of cube is:24\n"
     ]
    }
   ],
   "source": [
    "def surface_area(edge):\n",
    "    area=6*(edge**2)\n",
    "    return(area)\n",
    "edge=int(input('enter the length of edge:\\n'))\n",
    "print('surface area of cube is:{0}'.format(surface_area(edge)))"
   ]
  },
  {
   "cell_type": "markdown",
   "metadata": {
    "id": "O3379lCKYlcr"
   },
   "source": [
    "### 10.Five Star Retro Video rents VHS tapes and DVDs to the same connoisseurs who like to buy LP record albums. The store rents new videos for $3.00 a night, and oldies for $2.00 a night.\n",
    "\n",
    "Write a program that the clerks at Five Star Retro Video can use to calculate the total charge for a customer’s video rentals.\n",
    "\n",
    "The program should prompt the user for the number of each type of video and output the total cost."
   ]
  },
  {
   "cell_type": "code",
   "execution_count": 35,
   "metadata": {
    "id": "kKoIAmUpY4dY"
   },
   "outputs": [
    {
     "name": "stdout",
     "output_type": "stream",
     "text": [
      "enter the no of VHS:1\n",
      "enter the no of DVDS:1\n",
      "Total amount is:  5\n"
     ]
    }
   ],
   "source": [
    "def orders():\n",
    "    vhs=int(input('enter the no of VHS:'))\n",
    "    dvds=int(input('enter the no of DVDS:'))\n",
    "    total_amount(vhs,dvds)\n",
    "    \n",
    "def total_amount(vhs,dvds):\n",
    "    amount=vhs*3 + dvds*2\n",
    "    print('Total amount is: ',amount)\n",
    "    \n",
    "orders()\n"
   ]
  },
  {
   "cell_type": "markdown",
   "metadata": {
    "id": "oBQWzZuoY9dH"
   },
   "source": [
    "### 11. Write a program that takes the radius of a sphere(a floating point number) as input and then outputs the sphere's diameter, circumference, surface area and volume."
   ]
  },
  {
   "cell_type": "code",
   "execution_count": 43,
   "metadata": {
    "id": "MNAlLLYrbatP"
   },
   "outputs": [
    {
     "name": "stdout",
     "output_type": "stream",
     "text": [
      "enter radius:\n",
      "1\n",
      "Diameter:2.0 \n",
      "Circumference:6.28 \n",
      "Surface Area:12.56 \n",
      "Volume:4.1866666666666665\n"
     ]
    }
   ],
   "source": [
    "def sphere(r):\n",
    "    diameter=float(2*r)\n",
    "    circumference=float(2*3.14*r )\n",
    "    surface_area=float(4*3.14*r**2)\n",
    "    volume=float(4/3*3.14*r**3)\n",
    "    return(diameter,circumference,surface_area,volume)\n",
    "\n",
    "num=float(input('enter radius:\\n'))\n",
    "d,c,s,v=sphere(num)\n",
    "print(\"Diameter:{} \\nCircumference:{} \\nSurface Area:{} \\nVolume:{}\".format(d,c,s,v))"
   ]
  },
  {
   "cell_type": "markdown",
   "metadata": {
    "id": "zOx3W9G8bb_2"
   },
   "source": [
    "### 12. Instructions An object's momentum is its mass multiplied by its velocity. Write a program that accepts an object's mass (in kilograms) and velocity (in meters per second) as inputs, and then outputs its momentum."
   ]
  },
  {
   "cell_type": "code",
   "execution_count": 45,
   "metadata": {
    "id": "hlYAuUajdI0X"
   },
   "outputs": [
    {
     "name": "stdout",
     "output_type": "stream",
     "text": [
      "enter mass in kg:\n",
      "10\n",
      "enter velocity in m/s:\n",
      "20\n",
      "Momentum =200\n"
     ]
    }
   ],
   "source": [
    "def momentum(mass,velocity):\n",
    "    momentum=mass*velocity\n",
    "    return momentum\n",
    "mass=int(input('enter mass in kg:\\n'))\n",
    "velocity=int(input('enter velocity in m/s:\\n'))\n",
    "print('Momentum ={}'.format(momentum(mass,velocity)))"
   ]
  },
  {
   "cell_type": "markdown",
   "metadata": {
    "id": "jU4yPCcrdf0D"
   },
   "source": [
    "13. The kinetic energy of a moving object is given by the formula KE = ½mv2 where m is the object’s mass and v is its velocity.\n",
    "\n",
    "Modify the program you created in Project 5 so that it prints the object’s kinetic energy as well as its momentum."
   ]
  },
  {
   "cell_type": "code",
   "execution_count": 48,
   "metadata": {
    "id": "ocVu-KGkd9lN"
   },
   "outputs": [
    {
     "name": "stdout",
     "output_type": "stream",
     "text": [
      "enter mass in kg:\n",
      "2\n",
      "enter velocity in m/s:\n",
      "5\n",
      "Momentum =10 \n",
      "Velocity=25.0\n"
     ]
    }
   ],
   "source": [
    "def momentum_kineticEnergy(mass,velocity):\n",
    "    momentum=mass*velocity\n",
    "    ke=float(1/2*mass*(velocity**2))\n",
    "    return (momentum,ke)\n",
    "mass=int(input('enter mass in kg:\\n'))\n",
    "velocity=int(input('enter velocity in m/s:\\n'))\n",
    "m,ke=momentum_kineticEnergy(mass,velocity)\n",
    "print('Momentum ={} \\nVelocity={}'.format(m,ke))"
   ]
  },
  {
   "cell_type": "markdown",
   "metadata": {
    "id": "KGUdbd0Od-TE"
   },
   "source": [
    "14. An employee’s total weekly pay equals the hourly wage multiplied by the total number of regular hours plus any overtime pay. Overtime pay equals the total overtime hours multiplied by 1.5 times the hourly wage. Write a program that takes as inputs the hourly wage, total regular hours, and total overtime hours and displays an employee’s total weekly pay."
   ]
  },
  {
   "cell_type": "code",
   "execution_count": 50,
   "metadata": {
    "id": "d4lYL0jFekM1"
   },
   "outputs": [
    {
     "name": "stdout",
     "output_type": "stream",
     "text": [
      "enter hourly wage:\n",
      "1\n",
      "enter total regular hours:\n",
      "2\n",
      "enter total over time hours:\n",
      "3\n",
      "Employees weekly pay=6.5\n"
     ]
    }
   ],
   "source": [
    "def work_info():\n",
    "    hourly_wage=float(input('enter hourly wage:\\n'))\n",
    "    \n",
    "    total_regular_hours=float(input('enter total regular hours:\\n'))\n",
    "    \n",
    "    total_overtime_hours=float(input('enter total over time hours:\\n'))\n",
    "    \n",
    "    weekly_pay(hourly_wage,total_regular_hours,total_overtime_hours)\n",
    "\n",
    "def weekly_pay(hourly_wage,total_regular_hours,total_overtime_hours):\n",
    "    total_amount=hourly_wage*total_regular_hours + total_overtime_hours*1.5*hourly_wage\n",
    "    print('Employees weekly pay={}'.format(total_amount))\n",
    "    \n",
    "work_info()"
   ]
  },
  {
   "cell_type": "markdown",
   "metadata": {
    "id": "6KBqGepcfGWI"
   },
   "source": []
  }
 ],
 "metadata": {
  "colab": {
   "name": "FODS_Assignment_I.ipynb",
   "provenance": []
  },
  "kernelspec": {
   "display_name": "Python 3",
   "language": "python",
   "name": "python3"
  },
  "language_info": {
   "codemirror_mode": {
    "name": "ipython",
    "version": 3
   },
   "file_extension": ".py",
   "mimetype": "text/x-python",
   "name": "python",
   "nbconvert_exporter": "python",
   "pygments_lexer": "ipython3",
   "version": "3.7.7"
  }
 },
 "nbformat": 4,
 "nbformat_minor": 1
}
