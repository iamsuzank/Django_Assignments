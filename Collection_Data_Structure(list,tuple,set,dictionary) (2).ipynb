{
  "nbformat": 4,
  "nbformat_minor": 0,
  "metadata": {
    "colab": {
      "name": "Collection_Data_Structure(list,tuple,set,dictionary).ipynb",
      "provenance": [],
      "collapsed_sections": []
    },
    "kernelspec": {
      "display_name": "Python 3",
      "name": "python3"
    }
  },
  "cells": [
    {
      "cell_type": "markdown",
      "metadata": {
        "id": "BSOX7KLhCbWZ"
      },
      "source": [
        "**Lets get started with Strings!**<br>\n",
        "\"Hello\" is same as \"hello\"\n",
        "Square brackets can be used to access elements of the string:"
      ]
    },
    {
      "cell_type": "code",
      "metadata": {
        "colab": {
          "base_uri": "https://localhost:8080/"
        },
        "id": "hM7OscbuQ3mt",
        "outputId": "c584d312-b03d-4b18-ce84-eff2adaa9007"
      },
      "source": [
        "teststring=\"\"\"jdfljsd sdjfls sdfjsd sjlfkjsd lkdfjsdlf \"\"\"\r\n",
        "print(teststring)\r\n",
        "str='''Hello\" is same as \"hello\" Square brackets can be used to access elements of the string'''\r\n",
        "print(str) "
      ],
      "execution_count": 3,
      "outputs": [
        {
          "output_type": "stream",
          "text": [
            "jdfljsd sdjfls sdfjsd sjlfkjsd lkdfjsdlf \n",
            "Hello\" is same as \"hello\" Square brackets can be used to access elements of the string\n"
          ],
          "name": "stdout"
        }
      ]
    },
    {
      "cell_type": "markdown",
      "metadata": {
        "id": "zRvHLUpRQ4PX"
      },
      "source": [
        ""
      ]
    },
    {
      "cell_type": "code",
      "metadata": {
        "colab": {
          "base_uri": "https://localhost:8080/"
        },
        "id": "H2Kr9Fr5Q4ou",
        "outputId": "f4081e5e-a8d8-43c5-8814-684f9ff3979d"
      },
      "source": [
        "firstname=\"ram\"\r\n",
        "lastname=\"thapa\"\r\n",
        "fullname=firstname+\" \"+lastname\r\n",
        "print(fullname)\r\n",
        "print(fullname[0])\r\n",
        "#len()\r\n",
        "print(len(fullname))"
      ],
      "execution_count": 9,
      "outputs": [
        {
          "output_type": "stream",
          "text": [
            "ram thapa\n",
            "r\n",
            "9\n"
          ],
          "name": "stdout"
        }
      ]
    },
    {
      "cell_type": "markdown",
      "metadata": {
        "id": "pUysO7i4Q442"
      },
      "source": [
        ""
      ]
    },
    {
      "cell_type": "code",
      "metadata": {
        "colab": {
          "base_uri": "https://localhost:8080/",
          "height": 52
        },
        "id": "P7vrg0vD5Kjc",
        "outputId": "2c1aee02-c422-401a-9ac2-f3b17ed73b34"
      },
      "source": [
        "fname=\"Ayush\"\n",
        "print(fname)\n",
        "lname=\"parajuli\"\n",
        "print(lname)"
      ],
      "execution_count": null,
      "outputs": [
        {
          "output_type": "stream",
          "text": [
            "Ayush\n",
            "parajuli\n"
          ],
          "name": "stdout"
        }
      ]
    },
    {
      "cell_type": "code",
      "metadata": {
        "colab": {
          "base_uri": "https://localhost:8080/",
          "height": 34
        },
        "id": "2L1-G9BZCr7L",
        "outputId": "874f9885-11c5-4c79-d374-ca9bfd2e6242"
      },
      "source": [
        "a=\"Hello World!\"\n",
        "print(a[1])"
      ],
      "execution_count": null,
      "outputs": [
        {
          "output_type": "stream",
          "text": [
            "e\n"
          ],
          "name": "stdout"
        }
      ]
    },
    {
      "cell_type": "markdown",
      "metadata": {
        "id": "w7WVdqDgCZtA"
      },
      "source": [
        "**Substring**:<br>\n",
        "Get the characters from position 2 to position 5 ( not included):"
      ]
    },
    {
      "cell_type": "code",
      "metadata": {
        "colab": {
          "base_uri": "https://localhost:8080/",
          "height": 34
        },
        "id": "h-MmXtkxDDqZ",
        "outputId": "9c47a72a-d9cd-4320-fdb8-8fa1615ac84f"
      },
      "source": [
        "b=\"Hello world!\"\n",
        "print(b[2:5])"
      ],
      "execution_count": null,
      "outputs": [
        {
          "output_type": "stream",
          "text": [
            "llo\n"
          ],
          "name": "stdout"
        }
      ]
    },
    {
      "cell_type": "code",
      "metadata": {
        "id": "ADtTILE3e5yE"
      },
      "source": [
        "college=\"the  college\"\n",
        "print(college)"
      ],
      "execution_count": null,
      "outputs": []
    },
    {
      "cell_type": "markdown",
      "metadata": {
        "id": "DW2K_llhE44-"
      },
      "source": [
        "The strip() method removed any whitespace from the beginning "
      ]
    },
    {
      "cell_type": "markdown",
      "metadata": {
        "id": "_cugBulQEzQv"
      },
      "source": [
        ""
      ]
    },
    {
      "cell_type": "markdown",
      "metadata": {
        "id": "rIl0chShFWx7"
      },
      "source": [
        "The len() method returns the length of a string:"
      ]
    },
    {
      "cell_type": "code",
      "metadata": {
        "colab": {
          "base_uri": "https://localhost:8080/",
          "height": 34
        },
        "id": "c5vLE3Y-Fb0a",
        "outputId": "7a3102ac-1789-4c45-b80e-3de240b38223"
      },
      "source": [
        "a=\"Hello World!\"\n",
        "print(len(a))"
      ],
      "execution_count": null,
      "outputs": [
        {
          "output_type": "stream",
          "text": [
            "12\n"
          ],
          "name": "stdout"
        }
      ]
    },
    {
      "cell_type": "markdown",
      "metadata": {
        "id": "2IDDFcn3IIa3"
      },
      "source": [
        "The lower() method returns the string in lower case:"
      ]
    },
    {
      "cell_type": "code",
      "metadata": {
        "colab": {
          "base_uri": "https://localhost:8080/",
          "height": 34
        },
        "id": "VK-1krUJ_8wA",
        "outputId": "f7e61138-41be-4844-9115-f1352419c95a"
      },
      "source": [
        "word=\"The lower() method returns the string in lower case:\"\n",
        "print(len(word))"
      ],
      "execution_count": null,
      "outputs": [
        {
          "output_type": "stream",
          "text": [
            "52\n"
          ],
          "name": "stdout"
        }
      ]
    },
    {
      "cell_type": "markdown",
      "metadata": {
        "id": "OmWI_wTKFhfd"
      },
      "source": [
        ""
      ]
    },
    {
      "cell_type": "code",
      "metadata": {
        "colab": {
          "base_uri": "https://localhost:8080/",
          "height": 34
        },
        "id": "eGPdU7mrFOqy",
        "outputId": "76fff020-6724-4bf1-c17a-47541d144cbf"
      },
      "source": [
        "a=\"Hello world!\"\n",
        "print(a.lower())"
      ],
      "execution_count": null,
      "outputs": [
        {
          "output_type": "stream",
          "text": [
            "hello world!\n"
          ],
          "name": "stdout"
        }
      ]
    },
    {
      "cell_type": "markdown",
      "metadata": {
        "id": "7XQhYPXPInED"
      },
      "source": [
        "The replace() method replaces a string with another string:"
      ]
    },
    {
      "cell_type": "code",
      "metadata": {
        "colab": {
          "base_uri": "https://localhost:8080/",
          "height": 34
        },
        "id": "EL2zup_CIx9Y",
        "outputId": "6827c4dd-b159-4438-c87f-c8af0788a6dd"
      },
      "source": [
        "a=\"Hello world!\"\n",
        "print(a.replace(\"H\",\"j\"))"
      ],
      "execution_count": null,
      "outputs": [
        {
          "output_type": "stream",
          "text": [
            "jello world!\n"
          ],
          "name": "stdout"
        }
      ]
    },
    {
      "cell_type": "markdown",
      "metadata": {
        "id": "0xwIzV7ZI4HP"
      },
      "source": [
        "The split() method splits the string into substrings if it finds instances of the seperator:"
      ]
    },
    {
      "cell_type": "code",
      "metadata": {
        "colab": {
          "base_uri": "https://localhost:8080/",
          "height": 34
        },
        "id": "qCzSJne_JBbe",
        "outputId": "69a0be26-7aab-4cdd-fc8a-32ec0d065f8d"
      },
      "source": [
        "a=\"Hello, world hi ram how r u\"\n",
        "print(a.split(\" \")) # returns ['Hello','World']"
      ],
      "execution_count": null,
      "outputs": [
        {
          "output_type": "stream",
          "text": [
            "['Hello,', 'world', 'hi', 'ram', 'how', 'r', 'u']\n"
          ],
          "name": "stdout"
        }
      ]
    },
    {
      "cell_type": "code",
      "metadata": {
        "colab": {
          "base_uri": "https://localhost:8080/",
          "height": 54
        },
        "id": "x9120MZ4g45p",
        "outputId": "074e74dd-fc6d-4289-b5f9-5b8ad1995c7a"
      },
      "source": [
        "paragraph=\"The split() method splits the string , substrings if it finds instances of the seperator:\"\n",
        "print(paragraph.split(\",\"))"
      ],
      "execution_count": null,
      "outputs": [
        {
          "output_type": "stream",
          "text": [
            "['The split() method splits the string ', ' substrings if it finds instances of the seperator:']\n"
          ],
          "name": "stdout"
        }
      ]
    },
    {
      "cell_type": "markdown",
      "metadata": {
        "id": "k5jrND22DH6v"
      },
      "source": [
        "**Python Collections (Arrays)**<br>\n",
        "There are four collection data types in the Python programming language:<br>\n",
        "list<br>\n",
        "tuple<br>\n",
        "set<br>\n",
        "dictionary<br>\n",
        "\n",
        "List is a collection which is ordered and changeable. Allows duplicate members.<br>\n",
        "Tuple is a collection which is ordered and unchangeable. Allows duplicate members.<br>\n",
        "Set is a collection which is unordered and unindexed. No duplicate members.<br>\n",
        "Dictionary is a collection which is unordered, changeable and indexed. No duplicate members.\n",
        "When choosing a collection type, it is useful to understand the properties of that type. Choosing the right type for a particular data set could mean retention of meaning, and, it could mean an increase in efficiency or security."
      ]
    },
    {
      "cell_type": "markdown",
      "metadata": {
        "id": "6JHb6GZoJMbl"
      },
      "source": [
        " List**<br>\n",
        "List is a collection which is ordered and changable. Allows duplicate members.\n",
        "In Python lists are written with square brackets.\n",
        "let's create a list:"
      ]
    },
    {
      "cell_type": "code",
      "metadata": {
        "colab": {
          "base_uri": "https://localhost:8080/"
        },
        "id": "5K0b0dygBxb5",
        "outputId": "45e70b49-47a9-47d7-a318-315d5263bb94"
      },
      "source": [
        "stdname=[\"ayush\",\"avishek\",\"jenish\",\"harish\"]\n",
        "print(stdname)\n",
        "stdname[1]=\"piyush\"\n",
        "print(stdname)\n"
      ],
      "execution_count": 10,
      "outputs": [
        {
          "output_type": "stream",
          "text": [
            "['ayush', 'avishek', 'jenish', 'harish']\n",
            "['ayush', 'piyush', 'jenish', 'harish']\n"
          ],
          "name": "stdout"
        }
      ]
    },
    {
      "cell_type": "code",
      "metadata": {
        "id": "3mPb0545Nmzh"
      },
      "source": [
        ""
      ],
      "execution_count": null,
      "outputs": []
    },
    {
      "cell_type": "code",
      "metadata": {
        "colab": {
          "base_uri": "https://localhost:8080/",
          "height": 34
        },
        "id": "SeVvt3IBJf2q",
        "outputId": "f168ed01-2e24-4345-b410-749016a53713"
      },
      "source": [
        "thislist=[\"apple\",\"banana\",\"cherry\"]\n",
        "print(thislist)"
      ],
      "execution_count": null,
      "outputs": [
        {
          "output_type": "stream",
          "text": [
            "['apple', 'banana', 'cherry']\n"
          ],
          "name": "stdout"
        }
      ]
    },
    {
      "cell_type": "markdown",
      "metadata": {
        "id": "MJb_nPsSJpZh"
      },
      "source": [
        "Access Items:<br>\n",
        "we can access the list items by referring to the index number.\n",
        "print the second item of list:\n"
      ]
    },
    {
      "cell_type": "code",
      "metadata": {
        "colab": {
          "base_uri": "https://localhost:8080/"
        },
        "id": "Dle3OQB3jFAE",
        "outputId": "7df8d66e-b56a-4321-dc93-c9170b170012"
      },
      "source": [
        "thislist=[\"apple\",\"banana\",\"cherry\"]\n",
        "print(thislist[0])"
      ],
      "execution_count": null,
      "outputs": [
        {
          "output_type": "stream",
          "text": [
            "apple\n"
          ],
          "name": "stdout"
        }
      ]
    },
    {
      "cell_type": "markdown",
      "metadata": {
        "id": "gnMOBzFbNFh-"
      },
      "source": [
        "Change item Value:<br>\n",
        "To change the value of a specific item, refer to the index number.\n",
        "change the second item"
      ]
    },
    {
      "cell_type": "code",
      "metadata": {
        "colab": {
          "base_uri": "https://localhost:8080/",
          "height": 34
        },
        "id": "W3Tho2YHNT3k",
        "outputId": "8e05dcfa-9300-4257-ceef-1b6a701b4522"
      },
      "source": [
        "thislist=[\"apple\",\"banana\",\"cherry\"]\n",
        "thislist[1]=\"avacado\"\n",
        "print(thislist)"
      ],
      "execution_count": null,
      "outputs": [
        {
          "output_type": "stream",
          "text": [
            "['apple', 'avacado', 'cherry']\n"
          ],
          "name": "stdout"
        }
      ]
    },
    {
      "cell_type": "markdown",
      "metadata": {
        "id": "OshBbbaEEF8v"
      },
      "source": [
        "**Range of Indexes**\n",
        "You can specify a range of indexes by specifying where to start and where to end the range.\n",
        "\n",
        "When specifying a range, the return value will be a new list with the specified items."
      ]
    },
    {
      "cell_type": "code",
      "metadata": {
        "colab": {
          "base_uri": "https://localhost:8080/"
        },
        "id": "FY-JgSUmEJhx",
        "outputId": "4ff936f6-733e-42b5-8e32-c6ccd5185b19"
      },
      "source": [
        "thislist = [\"apple\", \"banana\", \"cherry\", \"orange\", \"kiwi\", \"melon\", \"mango\"]\n",
        "print(thislist[3:6])"
      ],
      "execution_count": null,
      "outputs": [
        {
          "output_type": "stream",
          "text": [
            "['orange', 'kiwi', 'melon']\n"
          ],
          "name": "stdout"
        }
      ]
    },
    {
      "cell_type": "markdown",
      "metadata": {
        "id": "4iWSGEbKN5_E"
      },
      "source": [
        "Loop Through a List:<br>\n",
        "We can loop through the list items by using a for loop.\n",
        "print all item in the list, one by one."
      ]
    },
    {
      "cell_type": "code",
      "metadata": {
        "colab": {
          "base_uri": "https://localhost:8080/",
          "height": 68
        },
        "id": "3V27I7GoONGp",
        "outputId": "100a90eb-d001-4eb4-becf-077c09838f74"
      },
      "source": [
        "thislist=[\"apple\",\"banana\",\"cherry\"]\n",
        "for x in thislist:\n",
        "  print(x)"
      ],
      "execution_count": null,
      "outputs": [
        {
          "output_type": "stream",
          "text": [
            "apple\n",
            "banana\n",
            "cherry\n"
          ],
          "name": "stdout"
        }
      ]
    },
    {
      "cell_type": "code",
      "metadata": {
        "colab": {
          "base_uri": "https://localhost:8080/",
          "height": 50
        },
        "id": "bCEHy1S7mOMp",
        "outputId": "4a7dd5a1-e2f8-444e-c13e-54e89b8bc075"
      },
      "source": [
        "a=3\n",
        "if a>0:\n",
        "  print(\" a is positive number\")\n",
        "b=-1\n",
        "if b<0:\n",
        "  print(\" b is negative number\")\n"
      ],
      "execution_count": null,
      "outputs": [
        {
          "output_type": "stream",
          "text": [
            " a is positive number\n",
            " b is negative number\n"
          ],
          "name": "stdout"
        }
      ]
    },
    {
      "cell_type": "code",
      "metadata": {
        "colab": {
          "base_uri": "https://localhost:8080/"
        },
        "id": "0qQ0gxXbnBYc",
        "outputId": "9887c5c4-4afa-4bc2-b4fc-e00631add8d0"
      },
      "source": [
        "number=int(input(\"enter any number\"))\n",
        "if number<0:\n",
        "  print(\"number is negative\")\n",
        "if number>0:\n",
        "  print(\"number is positive\")"
      ],
      "execution_count": null,
      "outputs": [
        {
          "output_type": "stream",
          "text": [
            "enter any number4\n",
            "number is positive\n"
          ],
          "name": "stdout"
        }
      ]
    },
    {
      "cell_type": "markdown",
      "metadata": {
        "id": "YlTvkEkSOcc1"
      },
      "source": [
        "**Check** if item Exists.<br>\n",
        "To determine if a specified item is present in a list use the keyword. \n",
        "check if \"apple\" is present in the list or not."
      ]
    },
    {
      "cell_type": "code",
      "metadata": {
        "colab": {
          "base_uri": "https://localhost:8080/",
          "height": 34
        },
        "id": "_gYOjZu8OyB5",
        "outputId": "9afc5cd5-4c83-47b7-89f2-2cf0981aaad8"
      },
      "source": [
        "thislist=[\"apple\",\"banana\",\"cherry\"]\n",
        "if \"apple\" in thislist:\n",
        "  print(\"yes,'apple' is in the fruits list\")"
      ],
      "execution_count": null,
      "outputs": [
        {
          "output_type": "stream",
          "text": [
            "yes,'apple' is in the fruits list\n"
          ],
          "name": "stdout"
        }
      ]
    },
    {
      "cell_type": "markdown",
      "metadata": {
        "id": "RapIe3dWqA77"
      },
      "source": [
        "WAP to take input from the user and check that item exists or not on given list."
      ]
    },
    {
      "cell_type": "code",
      "metadata": {
        "colab": {
          "base_uri": "https://localhost:8080/",
          "height": 50
        },
        "id": "9mIzjL28q7fL",
        "outputId": "ff884b34-9abd-4811-cbd2-876642a92ad1"
      },
      "source": [
        "thislist=[\"apple\",\"banana\",\"cherry\"]\n",
        "fruits=input(\"enter any fruits\")\n",
        "if fruits in thislist:\n",
        "  print(\"yes,'fruits' is in list\")"
      ],
      "execution_count": null,
      "outputs": [
        {
          "output_type": "stream",
          "text": [
            "enter any fruitsapple\n",
            "yes,'fruits' is in list\n"
          ],
          "name": "stdout"
        }
      ]
    },
    {
      "cell_type": "markdown",
      "metadata": {
        "id": "_kQfne9GRIFU"
      },
      "source": [
        "List length:<br>\n",
        "To determine how many items a list have, use the len() method.\n",
        "print the number of items in the list:"
      ]
    },
    {
      "cell_type": "code",
      "metadata": {
        "colab": {
          "base_uri": "https://localhost:8080/"
        },
        "id": "5XeSXdZBRV-x",
        "outputId": "3db4a7d4-6499-4933-89c3-b7259c6dd875"
      },
      "source": [
        "thislist=[\"apple\",\"banana\",\"cherry\"]\n",
        "print(len(thislist))"
      ],
      "execution_count": null,
      "outputs": [
        {
          "output_type": "stream",
          "text": [
            "3\n"
          ],
          "name": "stdout"
        }
      ]
    },
    {
      "cell_type": "markdown",
      "metadata": {
        "id": "c4l_O1d0RgyJ"
      },
      "source": [
        "Add items:<br>\n",
        "To add an item to the end of the list, use the append() mothod.\n",
        "Using the append method to append an item:"
      ]
    },
    {
      "cell_type": "code",
      "metadata": {
        "colab": {
          "base_uri": "https://localhost:8080/",
          "height": 34
        },
        "id": "dILr6M5uRzyZ",
        "outputId": "fd2c0212-682b-4bf1-bf03-d72fb92fcf81"
      },
      "source": [
        "thislist=[\"apple\",\"banana\",\"cherry\"]\n",
        "thislist.append(\"orange\")\n",
        "print(thislist)"
      ],
      "execution_count": null,
      "outputs": [
        {
          "output_type": "stream",
          "text": [
            "['apple', 'banana', 'cherry', 'orange']\n"
          ],
          "name": "stdout"
        }
      ]
    },
    {
      "cell_type": "markdown",
      "metadata": {
        "id": "yh9GEt4qSB5s"
      },
      "source": [
        "To add an item at the specified index, use the insert() method.\n",
        "Insert an item as the second position."
      ]
    },
    {
      "cell_type": "code",
      "metadata": {
        "colab": {
          "base_uri": "https://localhost:8080/",
          "height": 34
        },
        "id": "QNYuGeu4SOTx",
        "outputId": "b67fdedb-ae4a-4329-d6ff-08ed3d147476"
      },
      "source": [
        "thislist=[\"apple\",\"banana\",\"cherry\"]\n",
        "thislist.insert(1,\"orange\")\n",
        "print(thislist)"
      ],
      "execution_count": null,
      "outputs": [
        {
          "output_type": "stream",
          "text": [
            "['apple', 'orange', 'banana', 'cherry']\n"
          ],
          "name": "stdout"
        }
      ]
    },
    {
      "cell_type": "markdown",
      "metadata": {
        "id": "VQW4OZSeURXZ"
      },
      "source": [
        "Remove Item:<br>\n",
        "There are several methods to remove items from a list.\n",
        "The remove() method removes the specified item."
      ]
    },
    {
      "cell_type": "code",
      "metadata": {
        "colab": {
          "base_uri": "https://localhost:8080/",
          "height": 34
        },
        "id": "ShMYZ88JUidk",
        "outputId": "343bced1-3360-4be8-9d73-ca61b6a40b5c"
      },
      "source": [
        "thislist=[\"apple\",\"banana\",\"cherry\"]\n",
        "thislist.remove(\"banana\")\n",
        "print(thislist)"
      ],
      "execution_count": null,
      "outputs": [
        {
          "output_type": "stream",
          "text": [
            "['apple', 'cherry']\n"
          ],
          "name": "stdout"
        }
      ]
    },
    {
      "cell_type": "markdown",
      "metadata": {
        "id": "-5RibukHUvEX"
      },
      "source": [
        "The pop() method removed the specified index,(or the last item if index is not specified):"
      ]
    },
    {
      "cell_type": "code",
      "metadata": {
        "colab": {
          "base_uri": "https://localhost:8080/",
          "height": 34
        },
        "id": "4uTxnVNGU3mf",
        "outputId": "782d72c0-ec25-4c5f-d601-747f019e165e"
      },
      "source": [
        "thislist=[\"apple\",\"banana\",\"cherry\"]\n",
        "thislist.pop()\n",
        "print(thislist)"
      ],
      "execution_count": null,
      "outputs": [
        {
          "output_type": "stream",
          "text": [
            "['apple', 'banana']\n"
          ],
          "name": "stdout"
        }
      ]
    },
    {
      "cell_type": "markdown",
      "metadata": {
        "id": "7ET6J2czVH1Q"
      },
      "source": [
        "the del keyword removed the specified index:"
      ]
    },
    {
      "cell_type": "code",
      "metadata": {
        "colab": {
          "base_uri": "https://localhost:8080/",
          "height": 34
        },
        "id": "vzZWw8nXVMKz",
        "outputId": "342b723c-8ebe-46e8-836e-2d17a61bb93a"
      },
      "source": [
        "thislist=[\"apple\",\"banana\",\"cherry\"]\n",
        "del thislist[0]\n",
        "print(thislist) "
      ],
      "execution_count": null,
      "outputs": [
        {
          "output_type": "stream",
          "text": [
            "['banana', 'cherry']\n"
          ],
          "name": "stdout"
        }
      ]
    },
    {
      "cell_type": "markdown",
      "metadata": {
        "id": "cLkv7i54Vr4O"
      },
      "source": [
        "The del keyword can also delete the list completely:"
      ]
    },
    {
      "cell_type": "code",
      "metadata": {
        "id": "hhGg-NO2V6J-"
      },
      "source": [
        "thislist=[\"apple\",\"banana\",\"cherry\"]\n",
        "del thislist\n",
        "print(thislist) # this will cause an error beacuse \" thislist\" no longer exists"
      ],
      "execution_count": null,
      "outputs": []
    },
    {
      "cell_type": "markdown",
      "metadata": {
        "id": "_NvbnUG2WKPb"
      },
      "source": [
        "The clear() method empties the list:"
      ]
    },
    {
      "cell_type": "code",
      "metadata": {
        "id": "T-pnpKtIWPU1",
        "colab": {
          "base_uri": "https://localhost:8080/"
        },
        "outputId": "3df7da72-303c-4ad2-eb4b-3e6b8032e886"
      },
      "source": [
        "thislist=[\"apple\",\"banana\",\"cherry\"]\n",
        "thislist.clear()\n",
        "print(thislist)"
      ],
      "execution_count": 12,
      "outputs": [
        {
          "output_type": "stream",
          "text": [
            "[]\n"
          ],
          "name": "stdout"
        }
      ]
    },
    {
      "cell_type": "markdown",
      "metadata": {
        "id": "_tVSgnjRWXlo"
      },
      "source": [
        "The list() Constructor:\n",
        "it is also possible to use the list() constructor to make a list.\n",
        "Using the list() constructor to make a list."
      ]
    },
    {
      "cell_type": "code",
      "metadata": {
        "id": "Vuy-nRDOWi61"
      },
      "source": [
        "thislist=list((\"apple\",\"banana\",\"cherry\"))"
      ],
      "execution_count": null,
      "outputs": []
    },
    {
      "cell_type": "markdown",
      "metadata": {
        "id": "7oFgPH4iEiul"
      },
      "source": [
        "**List Methods**\n",
        "Python has a set of built-in methods that you can use on lists.<br>\n",
        "**Method\t                        Description**<br>\n",
        "append()\t             Adds an element at the end of the list<br>\n",
        "clear()\t              Removes all the elements from the list<br>\n",
        "copy()\t              Returns a copy of the list<br>\n",
        "count()\t              Returns the number of elements with the specified value\n",
        "extend()          \tAdd the elements of a list (or any iterable), to the end of the current list<br>\n",
        "index()\t            Returns the index of the first element with the specified value<br>\n",
        "insert()\t         Adds an element at the specified position<br>\n",
        "pop()\t             Removes the element at the specified position<br>\n",
        "remove()       \tRemoves the item with the specified value<br>\n",
        "reverse()     \tReverses the order of the list<br>\n",
        "sort()\t        Sorts the list"
      ]
    },
    {
      "cell_type": "markdown",
      "metadata": {
        "id": "pRqIw56YVDer"
      },
      "source": [
        "**Python Tuples**<br>\n",
        "A tuple is a collection which is ordered and unchangable. In python tuples are written with round brackets\n",
        "Create ta Tuple:"
      ]
    },
    {
      "cell_type": "code",
      "metadata": {
        "colab": {
          "base_uri": "https://localhost:8080/",
          "height": 201
        },
        "id": "L4PgpwfZVUSA",
        "outputId": "6456c5f9-eca4-4e01-bc9f-854fecf8b184"
      },
      "source": [
        "thistuple=(\"apple\",\"banana\",\"cherry\")\n",
        "thistuple.insert(1,\"hello\")\n",
        "print(thistuple)"
      ],
      "execution_count": null,
      "outputs": [
        {
          "output_type": "error",
          "ename": "AttributeError",
          "evalue": "ignored",
          "traceback": [
            "\u001b[0;31m---------------------------------------------------------------------------\u001b[0m",
            "\u001b[0;31mAttributeError\u001b[0m                            Traceback (most recent call last)",
            "\u001b[0;32m<ipython-input-10-010c43e88cb6>\u001b[0m in \u001b[0;36m<module>\u001b[0;34m()\u001b[0m\n\u001b[1;32m      1\u001b[0m \u001b[0mthistuple\u001b[0m\u001b[0;34m=\u001b[0m\u001b[0;34m(\u001b[0m\u001b[0;34m\"apple\"\u001b[0m\u001b[0;34m,\u001b[0m\u001b[0;34m\"banana\"\u001b[0m\u001b[0;34m,\u001b[0m\u001b[0;34m\"cherry\"\u001b[0m\u001b[0;34m)\u001b[0m\u001b[0;34m\u001b[0m\u001b[0;34m\u001b[0m\u001b[0m\n\u001b[0;32m----> 2\u001b[0;31m \u001b[0mthistuple\u001b[0m\u001b[0;34m.\u001b[0m\u001b[0minsert\u001b[0m\u001b[0;34m(\u001b[0m\u001b[0;36m1\u001b[0m\u001b[0;34m,\u001b[0m\u001b[0;34m\"hello\"\u001b[0m\u001b[0;34m)\u001b[0m\u001b[0;34m\u001b[0m\u001b[0;34m\u001b[0m\u001b[0m\n\u001b[0m\u001b[1;32m      3\u001b[0m \u001b[0mprint\u001b[0m\u001b[0;34m(\u001b[0m\u001b[0mthistuple\u001b[0m\u001b[0;34m)\u001b[0m\u001b[0;34m\u001b[0m\u001b[0;34m\u001b[0m\u001b[0m\n",
            "\u001b[0;31mAttributeError\u001b[0m: 'tuple' object has no attribute 'insert'"
          ]
        }
      ]
    },
    {
      "cell_type": "markdown",
      "metadata": {
        "id": "3kgsGaXCVwLr"
      },
      "source": [
        "Access Tuples Items:<br>\n",
        "We can access tuple items by referring to the index number, inside sqare brackets. Create a Tuple:"
      ]
    },
    {
      "cell_type": "code",
      "metadata": {
        "id": "Z86NtOgJIRL8"
      },
      "source": [
        "thistuple=(\"apple\",\"banana\",\"cherry\")\n",
        "print(thistuple)"
      ],
      "execution_count": null,
      "outputs": []
    },
    {
      "cell_type": "markdown",
      "metadata": {
        "id": "GJmAd5UlIaRs"
      },
      "source": [
        "Access Typle Items:<br>\n",
        "We can access tuples items by referring to the index number, inside square brackets.\n",
        "Return the item in position 1:"
      ]
    },
    {
      "cell_type": "code",
      "metadata": {
        "id": "ybwDZ3fQIoMG"
      },
      "source": [
        "thistuple=(\"apple\",\"banana\",\"cherry\")\n",
        "print(thistuple[1])"
      ],
      "execution_count": null,
      "outputs": []
    },
    {
      "cell_type": "markdown",
      "metadata": {
        "id": "8dXk2wXoIv3e"
      },
      "source": [
        "ONce a tuple is created we cannot change tuple values."
      ]
    },
    {
      "cell_type": "markdown",
      "metadata": {
        "id": "PbJ1mNiXJgo9"
      },
      "source": [
        "Loopt Through a Tuple:<br>\n",
        "We can loop through the tuple items by using a for loop.\n",
        "iterate through the items and print the values.\n",
        "**bold text**"
      ]
    },
    {
      "cell_type": "code",
      "metadata": {
        "id": "F92MgUHwJypA"
      },
      "source": [
        "thistuple=(\"apple\",\"banana\",\"cherry\")\n",
        "for x in thistuple:\n",
        "  print(x)"
      ],
      "execution_count": null,
      "outputs": []
    },
    {
      "cell_type": "markdown",
      "metadata": {
        "id": "BsoUiWnbJ7ac"
      },
      "source": [
        "Check if item Exists:<br>\n",
        "To determine if a specified item is present in a tuple use the in keyword\n",
        "check if \"apple\" is present in the tuple:"
      ]
    },
    {
      "cell_type": "code",
      "metadata": {
        "id": "ejCZNH9nKJDn"
      },
      "source": [
        "thistuple=(\"apple\",\"banana\",\"cherry\")\n",
        "if \"apple\" in thistuple:\n",
        "  print(\"yes,'apple' is in the fruits tuple\")"
      ],
      "execution_count": null,
      "outputs": []
    },
    {
      "cell_type": "markdown",
      "metadata": {
        "id": "QJTke2TmKZPL"
      },
      "source": [
        "Check if \"banana\" in present in the set:"
      ]
    },
    {
      "cell_type": "code",
      "metadata": {
        "id": "ZN39WCdxL_IN"
      },
      "source": [
        "thisset={\"apple\",\"banana\",\"cherry\"}\n",
        "print(\"banana\" in thisset)"
      ],
      "execution_count": null,
      "outputs": []
    },
    {
      "cell_type": "markdown",
      "metadata": {
        "id": "R8pyLUzVGOSJ"
      },
      "source": [
        "**Tuple Methods**\n",
        "Python has two built-in methods that you can use on tuples.<br>\n",
        "Method\tDescription<br>\n",
        "count()\tReturns the number of times a specified value occurs in a tuple<br>\n",
        "index()\tSearches the tuple for a specified value and returns the position of where it was found"
      ]
    },
    {
      "cell_type": "markdown",
      "metadata": {
        "id": "J-0KPH94GluI"
      },
      "source": [
        "**Set**<br>\n",
        "A set is a collection which is unordered and unindexed. In Python sets are written with curly brackets"
      ]
    },
    {
      "cell_type": "code",
      "metadata": {
        "id": "d00kXcK8GzNJ"
      },
      "source": [
        "thisset={\"apple\",\"banana\",\"cherry\"}\n",
        "print(thisset)"
      ],
      "execution_count": null,
      "outputs": []
    },
    {
      "cell_type": "markdown",
      "metadata": {
        "id": "Zz1FXW8kHDSx"
      },
      "source": [
        "**Access Items**<br>\n",
        "You cannot access items in a set by referring to an index, since sets are unordered the items has no index.\n",
        "\n",
        "But you can loop through the set items using a for loop, or ask if a specified value is present in a set, by using the in keyword."
      ]
    },
    {
      "cell_type": "code",
      "metadata": {
        "colab": {
          "background_save": true,
          "base_uri": "https://localhost:8080/",
          "height": 183
        },
        "id": "1SmJMcW0HOvO",
        "outputId": "a30d12af-eaaf-46f0-cab3-495d640927f7"
      },
      "source": [
        "thisset = {\"apple\", \"banana\", \"cherry\"}\n",
        "print(thisset[1])"
      ],
      "execution_count": null,
      "outputs": [
        {
          "output_type": "stream",
          "text": [
            "{'apple', 'banana', 'cherry'}\n"
          ],
          "name": "stdout"
        }
      ]
    },
    {
      "cell_type": "code",
      "metadata": {
        "id": "VzyBQKClHYh7"
      },
      "source": [
        "thisset = {\"apple\", \"banana\", \"cherry\"}\n",
        "\n",
        "print(\"banana\" in thisset)"
      ],
      "execution_count": null,
      "outputs": []
    },
    {
      "cell_type": "markdown",
      "metadata": {
        "id": "tWqueqfFMabn"
      },
      "source": [
        "**Change Items**:<br>\n",
        "Once a set is created, we cannot change its items, but we can add new items.\n",
        "**Add Items**:<br>\n",
        "To add one item to a set use the add() method.<br>\n",
        "To add more than one item to a set use the update() method<br>\n",
        "Add an item to a set, using the add() method:"
      ]
    },
    {
      "cell_type": "code",
      "metadata": {
        "colab": {
          "base_uri": "https://localhost:8080/",
          "height": 34
        },
        "id": "aIGj_xPBNGSt",
        "outputId": "ef20c4e8-a5ad-4896-8548-778de93f3c86"
      },
      "source": [
        "thisset={\"apple\",\"banana\",\"cherry\"}\n",
        "thisset.add(\"orange\")\n",
        "print(thisset)"
      ],
      "execution_count": null,
      "outputs": [
        {
          "output_type": "stream",
          "text": [
            "{'cherry', 'apple', 'orange', 'banana'}\n"
          ],
          "name": "stdout"
        }
      ]
    },
    {
      "cell_type": "markdown",
      "metadata": {
        "id": "5DE-1G9wIBsS"
      },
      "source": [
        ""
      ]
    },
    {
      "cell_type": "markdown",
      "metadata": {
        "id": "nSFWt6UsNX5m"
      },
      "source": [
        "Add multiple items to a set, using update() method:"
      ]
    },
    {
      "cell_type": "code",
      "metadata": {
        "id": "PRqw2nK7Nct7",
        "colab": {
          "base_uri": "https://localhost:8080/"
        },
        "outputId": "68112671-b2f7-46a3-a737-dac37bb01ac8"
      },
      "source": [
        "thisset={\"apple\",\"banana\",\"cherry\"}\n",
        "thisset.update([\"orange\",\"mango\",\"grapes\"])\n",
        "print(thisset)"
      ],
      "execution_count": null,
      "outputs": [
        {
          "output_type": "stream",
          "text": [
            "{'apple', 'mango', 'banana', 'grapes', 'cherry', 'orange'}\n"
          ],
          "name": "stdout"
        }
      ]
    },
    {
      "cell_type": "markdown",
      "metadata": {
        "id": "TIWp5nM5Nw9W"
      },
      "source": [
        "**Remove Item:**<br>\n",
        "To remove an item in a set, use the remove(), or the discard() method.\n",
        "Remove \"banana\" by using the remove() method."
      ]
    },
    {
      "cell_type": "code",
      "metadata": {
        "colab": {
          "base_uri": "https://localhost:8080/",
          "height": 34
        },
        "id": "NeiZ3emQOARM",
        "outputId": "eea64c92-a2ba-4563-fc50-142cfbd9acbb"
      },
      "source": [
        "thisset={\"apple\",\"banana\",\"cherry\"}\n",
        "thisset.remove(\"banana\")\n",
        "print(thisset)"
      ],
      "execution_count": null,
      "outputs": [
        {
          "output_type": "stream",
          "text": [
            "{'cherry', 'apple'}\n"
          ],
          "name": "stdout"
        }
      ]
    },
    {
      "cell_type": "markdown",
      "metadata": {
        "id": "pQTFpNNYOsbK"
      },
      "source": [
        "remove() method returns error if item does not exists<br>\n",
        "discard() method doesn't return error<br>\n",
        "pop() method removes and last item <br>\n",
        "clear() method empties the set"
      ]
    },
    {
      "cell_type": "code",
      "metadata": {
        "id": "pMWHmpniO_Nq"
      },
      "source": [
        "thisset={\"apple\",\"banana\",\"cherry\"}\n",
        "x=thisset.pop()\n",
        "# thisset.clear()\n",
        "# thisset.discard(\"banana\")\n",
        "print(thisset)"
      ],
      "execution_count": null,
      "outputs": []
    },
    {
      "cell_type": "markdown",
      "metadata": {
        "id": "numbCfDyPPF9"
      },
      "source": [
        "**Join Two Sets**<br>\n",
        "There are several ways to join two or more sets in Python.\n",
        "\n",
        "You can use the union() method that returns a new set containing all items from both sets, or the update() method that inserts all the items from one set into another:"
      ]
    },
    {
      "cell_type": "code",
      "metadata": {
        "id": "O9pl6yFVHmWM"
      },
      "source": [
        "set1 = {\"a\", \"b\" , \"c\"}\n",
        "set2 = {1, 2, 3}\n",
        "\n",
        "set3 = set1.union(set2)\n",
        "print(set3)\n"
      ],
      "execution_count": null,
      "outputs": []
    },
    {
      "cell_type": "code",
      "metadata": {
        "id": "FSFsAvqHHuyk"
      },
      "source": [
        "#The update() method inserts the items in set2 into set1:\n",
        "set1 = {\"a\", \"b\" , \"c\"}\n",
        "set2 = {1, 2, 3}\n",
        "\n",
        "set1.update(set2)\n",
        "print(set1)"
      ],
      "execution_count": null,
      "outputs": []
    },
    {
      "cell_type": "markdown",
      "metadata": {
        "id": "GHB4Cm4_H49v"
      },
      "source": [
        "**Set Methods**<br>\n",
        "Python has a set of built-in methods that you can use on sets.<br>\n",
        "\n",
        "Method\tDescription<br>\n",
        "add()\tAdds an element to the set <br>\n",
        "clear()\tRemoves all the elements from the set<br>\n",
        "copy()\tReturns a copy of the set<br>\n",
        "difference()\tReturns a set containing the difference between two or more sets<br>\n",
        "difference_update()\tRemoves the items in this set that are also included in another, specified set<br>\n",
        "discard()\tRemove the specified item<br>\n",
        "intersection()\tReturns a set, that is the intersection of two other sets<br>\n",
        "intersection_update()\tRemoves the items in this set that are not present in other, specified set(s)<br>\n",
        "isdisjoint()\tReturns whether two sets have a intersection or not<br>\n",
        "issubset()\tReturns whether another set contains this set or not<br>\n",
        "issuperset()\tReturns whether this set contains another set or not<br>\n",
        "pop()\tRemoves an element from the set<br>\n",
        "remove()\tRemoves the specified element\n",
        "symmetric_difference()\tReturns a set with the symmetric differences of two sets\n",
        "symmetric_difference_update()\tinserts the symmetric differences from this set and another\n",
        "union()\tReturn a set containing the union of sets\n",
        "update()\tUpdate the set with the union of this set and others"
      ]
    },
    {
      "cell_type": "markdown",
      "metadata": {
        "id": "WyFf7V9PIYFP"
      },
      "source": [
        "**Dictionary**<br>\n",
        "A dictionary is a collection which is unordered, changeable and indexed. In Python dictionaries are written with curly brackets, and they have keys and values."
      ]
    },
    {
      "cell_type": "code",
      "metadata": {
        "colab": {
          "base_uri": "https://localhost:8080/",
          "height": 35
        },
        "id": "3Dpnk5qNICiB",
        "outputId": "d2945686-eea5-416d-f556-b3ac49ab5632"
      },
      "source": [
        "thisdict =\t{\n",
        "  \"brand\": \"Ford\",\n",
        "  \"model\": \"Mustang\",\n",
        "  \"year\": 1964\n",
        "}\n",
        "x = thisdict[\"model\"]\n",
        "print(x)\n",
        "x = thisdict.get(\"model\")  #There is also a method called get() that will give you the same result:"
      ],
      "execution_count": null,
      "outputs": [
        {
          "output_type": "stream",
          "text": [
            "Mustang\n"
          ],
          "name": "stdout"
        }
      ]
    },
    {
      "cell_type": "markdown",
      "metadata": {
        "id": "rziFcjYsOHKp"
      },
      "source": [
        "**Change Values**<br>\n",
        "You can change the value of a specific item by referring to its key name:"
      ]
    },
    {
      "cell_type": "code",
      "metadata": {
        "id": "7FTjk6MHOKgj"
      },
      "source": [
        "thisdict = {\n",
        "  \"brand\": \"Ford\",\n",
        "  \"model\": \"Mustang\",\n",
        "  \"year\": 1964\n",
        "}\n",
        "thisdict[\"year\"] = 2018"
      ],
      "execution_count": null,
      "outputs": []
    },
    {
      "cell_type": "markdown",
      "metadata": {
        "id": "Ngm1Ci8LOQBw"
      },
      "source": [
        "**Loop Through a Dictionary**\n",
        "You can loop through a dictionary by using a for loop.\n",
        "\n",
        "When looping through a dictionary, the return value are the keys of the dictionary, but there are methods to return the values as well."
      ]
    },
    {
      "cell_type": "code",
      "metadata": {
        "id": "SHijpPFeOTgW"
      },
      "source": [
        "for x in thisdict:\n",
        "  print(x)"
      ],
      "execution_count": null,
      "outputs": []
    },
    {
      "cell_type": "code",
      "metadata": {
        "id": "UP3mOtOFOa6T"
      },
      "source": [
        "#Print all values in the dictionary, one by one:\n",
        "\n",
        "for x in thisdict:\n",
        "  print(thisdict[x])"
      ],
      "execution_count": null,
      "outputs": []
    },
    {
      "cell_type": "code",
      "metadata": {
        "id": "n7vCEM4aOgaa"
      },
      "source": [
        "#You can also use the values() function to return values of a dictionary:\n",
        "\n",
        "for x in thisdict.values():\n",
        "  print(x)"
      ],
      "execution_count": null,
      "outputs": []
    },
    {
      "cell_type": "code",
      "metadata": {
        "id": "V1t4Df83Omc9"
      },
      "source": [
        "#Loop through both keys and values, by using the items() function:\n",
        "\n",
        "for x, y in thisdict.items():\n",
        "  print(x, y)"
      ],
      "execution_count": null,
      "outputs": []
    },
    {
      "cell_type": "code",
      "metadata": {
        "colab": {
          "base_uri": "https://localhost:8080/",
          "height": 34
        },
        "id": "R0cG4FLmOslt",
        "outputId": "b2b09072-f8d8-47f6-8877-0e1b5d8ce035"
      },
      "source": [
        "\"\"\" Check if Key Exists\n",
        "To determine if a specified key is present in a dictionary use the in keyword:\n",
        "\n",
        "Example\n",
        "Check if \"model\" is present in the dictionary:\"\"\"\n",
        "\n",
        "thisdict = {\n",
        "  \"brand\": \"Ford\",\n",
        "  \"model\": \"Mustang\",\n",
        "  \"year\": 1964\n",
        "}\n",
        "if \"model\" in thisdict:\n",
        "  print(\"Yes, 'model' is one of the keys in the thisdict dictionary\")"
      ],
      "execution_count": null,
      "outputs": [
        {
          "output_type": "stream",
          "text": [
            "Yes, 'model' is one of the keys in the thisdict dictionary\n"
          ],
          "name": "stdout"
        }
      ]
    },
    {
      "cell_type": "code",
      "metadata": {
        "id": "ihqoHmmhPC70"
      },
      "source": [
        "\"\"\"Adding Items\n",
        "Adding an item to the dictionary is done by using a new index key and assigning a value to it:\n",
        "\n",
        "Example\"\"\" \n",
        "\n",
        "thisdict = {\n",
        "  \"brand\": \"Ford\",\n",
        "  \"model\": \"Mustang\",\n",
        "  \"year\": 1964\n",
        "}\n",
        "thisdict[\"color\"] = \"red\"\n",
        "print(thisdict)"
      ],
      "execution_count": null,
      "outputs": []
    },
    {
      "cell_type": "markdown",
      "metadata": {
        "id": "7R5T7ovHPWkr"
      },
      "source": [
        "**Removing Items**<br>\n",
        "There are several methods to remove items from a dictionary:"
      ]
    },
    {
      "cell_type": "code",
      "metadata": {
        "id": "Cy0292X5PbI0"
      },
      "source": [
        "thisdict = {\n",
        "  \"brand\": \"Ford\",\n",
        "  \"model\": \"Mustang\",\n",
        "  \"year\": 1964\n",
        "}\n",
        "thisdict.pop(\"model\")\n",
        "print(thisdict)"
      ],
      "execution_count": null,
      "outputs": []
    },
    {
      "cell_type": "code",
      "metadata": {
        "id": "eEdAK4PXPi2r"
      },
      "source": [
        "#The del keyword removes the item with the specified key name:\n",
        "\n",
        "thisdict = {\n",
        "  \"brand\": \"Ford\",\n",
        "  \"model\": \"Mustang\",\n",
        "  \"year\": 1964\n",
        "}\n",
        "del thisdict[\"model\"]\n",
        "print(thisdict)"
      ],
      "execution_count": null,
      "outputs": []
    },
    {
      "cell_type": "code",
      "metadata": {
        "id": "N5-DGlkMPr8p"
      },
      "source": [
        "#The del keyword can also delete the dictionary completely:\n",
        "\n",
        "thisdict = {\n",
        "  \"brand\": \"Ford\",\n",
        "  \"model\": \"Mustang\",\n",
        "  \"year\": 1964\n",
        "}\n",
        "del thisdict\n",
        "print(thisdict) #this will cause an error because \"thisdict\" no longer exists."
      ],
      "execution_count": null,
      "outputs": []
    },
    {
      "cell_type": "code",
      "metadata": {
        "id": "BibPJuefPxRd"
      },
      "source": [
        "#The clear() keyword empties the dictionary:\n",
        "\n",
        "thisdict = {\n",
        "  \"brand\": \"Ford\",\n",
        "  \"model\": \"Mustang\",\n",
        "  \"year\": 1964\n",
        "}\n",
        "thisdict.clear()\n",
        "print(thisdict)"
      ],
      "execution_count": null,
      "outputs": []
    },
    {
      "cell_type": "code",
      "metadata": {
        "id": "Flm0OED5P4V5"
      },
      "source": [
        "#Make a copy of a dictionary with the copy() method:\n",
        "\n",
        "thisdict = {\n",
        "  \"brand\": \"Ford\",\n",
        "  \"model\": \"Mustang\",\n",
        "  \"year\": 1964\n",
        "}\n",
        "mydict = thisdict.copy()\n",
        "print(mydict)"
      ],
      "execution_count": null,
      "outputs": []
    },
    {
      "cell_type": "markdown",
      "metadata": {
        "id": "RpvBxMcIQBNI"
      },
      "source": [
        "**Nested Dictionaries**<br>\n",
        "A dictionary can also contain many dictionaries, this is called nested dictionaries"
      ]
    },
    {
      "cell_type": "code",
      "metadata": {
        "id": "guqAb61gQFeR"
      },
      "source": [
        "#Create a dictionary that contain three dictionaries:\n",
        "\n",
        "myfamily = {\n",
        "  \"child1\" : {\n",
        "    \"name\" : \"Emil\",\n",
        "    \"year\" : 2004\n",
        "  },\n",
        "  \"child2\" : {\n",
        "    \"name\" : \"Tobias\",\n",
        "    \"year\" : 2007\n",
        "  },\n",
        "  \"child3\" : {\n",
        "    \"name\" : \"Linus\",\n",
        "    \"year\" : 2011\n",
        "  }\n",
        "}"
      ],
      "execution_count": null,
      "outputs": []
    },
    {
      "cell_type": "code",
      "metadata": {
        "id": "GEBrNrZ2QO6t"
      },
      "source": [
        "#Create three dictionaries, than create one dictionary that will contain the other three dictionaries:\n",
        "\n",
        "child1 = {\n",
        "  \"name\" : \"Emil\",\n",
        "  \"year\" : 2004\n",
        "}\n",
        "child2 = {\n",
        "  \"name\" : \"Tobias\",\n",
        "  \"year\" : 2007\n",
        "}\n",
        "child3 = {\n",
        "  \"name\" : \"Linus\",\n",
        "  \"year\" : 2011\n",
        "}\n",
        "\n",
        "myfamily = {\n",
        "  \"child1\" : child1,\n",
        "  \"child2\" : child2,\n",
        "  \"child3\" : child3\n",
        "}"
      ],
      "execution_count": null,
      "outputs": []
    },
    {
      "cell_type": "markdown",
      "metadata": {
        "id": "aztlPESaQXsz"
      },
      "source": [
        "**Dictionary Methods**<br>\n",
        "Python has a set of built-in methods that you can use on dictionaries.<br>\n",
        "\n",
        "**Method\tDescription**<br>\n",
        "clear()\tRemoves all the elements from the dictionary\n",
        "copy()\tReturns a copy of the dictionary\n",
        "fromkeys()\tReturns a dictionary with the specified keys and values\n",
        "get()\tReturns the value of the specified key\n",
        "items()\tReturns a list containing a tuple for each key value pair\n",
        "keys()\tReturns a list containing the dictionary's keys\n",
        "pop()\tRemoves the element with the specified key\n",
        "popitem()\tRemoves the last inserted key-value pair\n",
        "setdefault()\tReturns the value of the specified key. If the key does not exist: insert the key, with the specified value\n",
        "update()\tUpdates the dictionary with the specified key-value pairs\n",
        "values()\tReturns a list of all the values in the dictionary"
      ]
    },
    {
      "cell_type": "code",
      "metadata": {
        "id": "T1pXS-jiQgXf"
      },
      "source": [
        ""
      ],
      "execution_count": null,
      "outputs": []
    }
  ]
}